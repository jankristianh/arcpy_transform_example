{
 "cells": [
  {
   "cell_type": "code",
   "execution_count": 10,
   "metadata": {},
   "outputs": [],
   "source": [
    "import arcpy"
   ]
  },
  {
   "cell_type": "code",
   "execution_count": 12,
   "metadata": {},
   "outputs": [],
   "source": [
    "# Local geodatabase that holds the input dataset\n",
    "gdb = \"C:\\\\Users\\\\JanKristianH\\\\transformtest.gdb\"\n",
    "arcpy.env.workspace = gdb # Setting workspace to the gdb, for easy access to its contents, and simpler syntax later\n",
    "\n",
    "# Name of existing featureclass in the geodatabase - input dataset\n",
    "fc = 'harte'\n",
    "\n",
    "# Name of the featureclass we will make to store the output\n",
    "output_fc = 'transformed'"
   ]
  },
  {
   "cell_type": "code",
   "execution_count": 18,
   "metadata": {
    "scrolled": true
   },
   "outputs": [
    {
     "name": "stdout",
     "output_type": "stream",
     "text": [
      "Hartebeesthoek94_Lo29\n",
      "102487\n",
      "Hartebeesthoek94_Lo29\n",
      "102487\n",
      "Hartebeesthoek94_Lo29\n",
      "102487\n"
     ]
    }
   ],
   "source": [
    "# Just printing some info from the existing featureclass\n",
    "with arcpy.da.SearchCursor(fc,'SHAPE@') as cur:\n",
    "    for row in cur:\n",
    "        print(row[0].spatialReference.name) # Name of the spatial reference\n",
    "        print(row[0].spatialReference.factoryCode)# wkid of the spatial reference"
   ]
  },
  {
   "cell_type": "code",
   "execution_count": 21,
   "metadata": {},
   "outputs": [
    {
     "data": {
      "text/plain": [
       "<Result 'C:\\\\Users\\\\JanKristianH\\\\transformtest.gdb\\\\transformed'>"
      ]
     },
     "execution_count": 21,
     "metadata": {},
     "output_type": "execute_result"
    }
   ],
   "source": [
    "#4326 is the wkid of GCS WGS 1984, this could be any spatial reference\n",
    "new_sr = arcpy.SpatialReference(4326) \n",
    "\n",
    "#Creating new fc for transformed output\n",
    "arcpy.CreateFeatureclass_management(gdb, output_fc, spatial_reference=new_sr)"
   ]
  },
  {
   "cell_type": "code",
   "execution_count": 22,
   "metadata": {},
   "outputs": [],
   "source": [
    "# Using an InsertCursor to insert geometries in the new featureclass\n",
    "# Looping through the geometries in the old fc. This Cursor is reprojectiong the geometries on the fly\n",
    "\n",
    "icur = arcpy.da.InsertCursor(output_fc, 'SHAPE@')\n",
    "with arcpy.da.SearchCursor(fc, 'SHAPE@', spatial_reference=new_sr) as cur:\n",
    "        for row in cur:\n",
    "            icur.insertRow(row)\n",
    "del icur"
   ]
  },
  {
   "cell_type": "code",
   "execution_count": 27,
   "metadata": {},
   "outputs": [
    {
     "name": "stdout",
     "output_type": "stream",
     "text": [
      "27,7245613910001 -26,396911431 28,7562490970001 -25,241654841 NaN NaN NaN NaN\n",
      "GCS_WGS_1984 \n",
      "\n",
      "22,1115392190001 -30,399767782 24,1344861190001 -28,64716855 NaN NaN NaN NaN\n",
      "GCS_WGS_1984 \n",
      "\n",
      "25,610576064 -29,8787882309999 27,790878611 -28,7150373179999 NaN NaN NaN NaN\n",
      "GCS_WGS_1984 \n",
      "\n"
     ]
    }
   ],
   "source": [
    "#Printing the extents and the sr of the 3 polygons in the new featureclass to check\n",
    "\n",
    "with arcpy.da.SearchCursor(output_fc, 'SHAPE@') as cur:\n",
    "    for row in cur:\n",
    "        print(row[0].extent)\n",
    "        print(row[0].spatialReference.name,'\\n')"
   ]
  },
  {
   "cell_type": "code",
   "execution_count": 28,
   "metadata": {},
   "outputs": [
    {
     "name": "stdout",
     "output_type": "stream",
     "text": [
      "24503,7116 2793423,1236 127419,3004 2920842,424 NaN NaN NaN NaN\n",
      "Hartebeesthoek94_Lo29 \n",
      "\n",
      "475372,0052 3185482,5094 666500,9558 3376611,4599 NaN NaN NaN NaN\n",
      "Hartebeesthoek94_Lo29 \n",
      "\n",
      "117617,8157 3180581,767 328349,7356 3308001,0674 NaN NaN NaN NaN\n",
      "Hartebeesthoek94_Lo29 \n",
      "\n"
     ]
    }
   ],
   "source": [
    "#Printing the extents and the sr of the 3 polygons in the new featureclass to check\n",
    "with arcpy.da.SearchCursor(fc, 'SHAPE@') as cur:\n",
    "    for row in cur:\n",
    "        print(row[0].extent)\n",
    "        print(row[0].spatialReference.name,'\\n')"
   ]
  },
  {
   "cell_type": "code",
   "execution_count": null,
   "metadata": {},
   "outputs": [],
   "source": []
  }
 ],
 "metadata": {
  "kernelspec": {
   "display_name": "Python 3",
   "language": "python",
   "name": "python3"
  },
  "language_info": {
   "codemirror_mode": {
    "name": "ipython",
    "version": 3
   },
   "file_extension": ".py",
   "mimetype": "text/x-python",
   "name": "python",
   "nbconvert_exporter": "python",
   "pygments_lexer": "ipython3",
   "version": "3.6.6"
  }
 },
 "nbformat": 4,
 "nbformat_minor": 2
}
